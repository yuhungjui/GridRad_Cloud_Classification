{
 "cells": [
  {
   "cell_type": "markdown",
   "id": "27d48e80-44e4-4b7b-9e7f-cb4d8ac8ec49",
   "metadata": {},
   "source": [
    "### Data Post-procesing: GridRad.\n",
    "\n",
    "**Read, Filter, Clutter-removal processes for GridRad data based on the modules by the GridRad [website](http://gridrad.org/software.html).**\n",
    "\n",
    "**For [GridRad - Three-Dimensional Gridded NEXRAD WSR-88D Radar Data](https://rda.ucar.edu/datasets/ds841.0/).**\n",
    "\n",
    "**Hungjui Yu 20220209**"
   ]
  },
  {
   "cell_type": "code",
   "execution_count": 2,
   "id": "8f993a24-00e8-4bd6-8c06-1806910834d1",
   "metadata": {},
   "outputs": [],
   "source": [
    "import sys\n",
    "import os\n",
    "import datetime as dt\n",
    "import pytz\n",
    "import numpy as np\n",
    "import netCDF4 as nc\n",
    "import xarray as xr"
   ]
  },
  {
   "cell_type": "code",
   "execution_count": 3,
   "id": "5d58caf2-8f22-4d6f-b4e0-3dc044bfff2b",
   "metadata": {},
   "outputs": [
    {
     "name": "stdout",
     "output_type": "stream",
     "text": [
      "/gpfs/fs1/collections/rda/data/ds841.0/201104/nexrad_3d_v3_1_20110427T120000Z.nc\n"
     ]
    }
   ],
   "source": [
    "def set_input_names(file_date):\n",
    "\n",
    "    file_path_1_gridrad = '/gpfs/fs1/collections/rda/data/ds841.0'\n",
    "    # file_path_1_gridrad = '/gpfs/fs1/collections/rda/data/ds841.1'\n",
    "    file_path_2 = '/{}'.format(file_date.strftime('%Y%m'))\n",
    "\n",
    "    file_pathnames = dict( dbz = file_path_1_gridrad\n",
    "                               + file_path_2\n",
    "                               + '/nexrad_3d_v' + '3_1_' + file_date_time.strftime('%Y%m%dT%H%M%SZ') + '.nc'\n",
    "                               # + '/nexrad_3d_v' + '4_2_' + file_date_time.strftime('%Y%m%dT%H%M%SZ') + '.nc'\n",
    "                         )\n",
    "\n",
    "    \n",
    "    return file_pathnames\n",
    "\n",
    "file_date_time = dt.datetime(2011, 4, 27, 12, 0, 0, tzinfo=pytz.utc)\n",
    "file_name_dict = set_input_names(file_date_time)\n",
    "print(file_name_dict['dbz'])"
   ]
  },
  {
   "cell_type": "markdown",
   "id": "b48162e4-cc27-4ac8-b4ce-efc823c27dda",
   "metadata": {},
   "source": [
    "#### Read the GridRad data (original methods):"
   ]
  },
  {
   "cell_type": "code",
   "execution_count": 10,
   "id": "16316353-3971-43b4-b693-cf26bd74af13",
   "metadata": {},
   "outputs": [],
   "source": [
    "def read_gridrad(infile):\n",
    "    \n",
    "    # Check to see if file exists:\n",
    "    if not os.path.isfile(infile):\n",
    "        print('File \"' + infile + '\" does not exist.  Returning -2.')\n",
    "        return -2\n",
    "    \n",
    "    # Check to see if file has size of zero\n",
    "    if os.stat(infile).st_size == 0:\n",
    "        print('File \"' + infile + '\" contains no valid data.  Returning -1.')\n",
    "        return -1\n",
    "    \n",
    "    # Open GridRad netCDF file\n",
    "    id = nc.Dataset(infile, \"r\", format=\"NETCDF4\")\n",
    "    \n",
    "    # Read global attributes\n",
    "    Analysis_time           = str(id.getncattr('Analysis_time'          ))\n",
    "    Analysis_time_window    = str(id.getncattr('Analysis_time_window'   ))\n",
    "    File_creation_date      = str(id.getncattr('File_creation_date'     ))\n",
    "    Grid_scheme             = str(id.getncattr('Grid_scheme'            ))\n",
    "    Algorithm_version       = str(id.getncattr('Algorithm_version'      ))\n",
    "    Algorithm_description   = str(id.getncattr('Algorithm_description'  ))\n",
    "    Authors                 = str(id.getncattr('Authors'                ))\n",
    "    Project_sponsor         = str(id.getncattr('Project_sponsor'        ))\n",
    "    Project_name            = str(id.getncattr('Project_name'           ))\n",
    "    \n",
    "    # Read list of merged radar sweeps\n",
    "    if ('sweeps_merged' in id.variables):\n",
    "        sweeps_list   = (id.variables['sweeps_merged'])[:]\n",
    "        sweeps_merged = ['']*(id.dimensions['Sweep'].size)\n",
    "        for i in range(0,id.dimensions['Sweep'].size):\n",
    "            for j in range(0,id.dimensions['SweepRef'].size):\n",
    "                sweeps_merged[i] += str(sweeps_list[i,j])\n",
    "    else:\n",
    "        sweeps_merged = -1\n",
    "    "
   ]
  },
  {
   "cell_type": "markdown",
   "id": "8cf8262c-014c-4c0d-96ed-805abbcb006b",
   "metadata": {},
   "source": [
    "#### Test Run:"
   ]
  },
  {
   "cell_type": "code",
   "execution_count": 11,
   "id": "f93d3bd1-5177-44e3-9f21-fae60476c2e5",
   "metadata": {},
   "outputs": [],
   "source": [
    "read_gridrad(file_name_dict['dbz'])"
   ]
  },
  {
   "cell_type": "code",
   "execution_count": null,
   "id": "33c28205-6b9a-4855-920a-782a7486fbdf",
   "metadata": {},
   "outputs": [],
   "source": [
    "%reset"
   ]
  }
 ],
 "metadata": {
  "kernelspec": {
   "display_name": "NPL-3.7.9",
   "language": "python",
   "name": "npl-3.7.9"
  },
  "language_info": {
   "codemirror_mode": {
    "name": "ipython",
    "version": 3
   },
   "file_extension": ".py",
   "mimetype": "text/x-python",
   "name": "python",
   "nbconvert_exporter": "python",
   "pygments_lexer": "ipython3",
   "version": "3.7.9"
  }
 },
 "nbformat": 4,
 "nbformat_minor": 5
}
